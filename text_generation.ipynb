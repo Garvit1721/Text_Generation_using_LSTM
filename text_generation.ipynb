{
  "nbformat": 4,
  "nbformat_minor": 0,
  "metadata": {
    "colab": {
      "provenance": [],
      "authorship_tag": "ABX9TyPADhh/2Hn3a7GpkgLZdnUo",
      "include_colab_link": true
    },
    "kernelspec": {
      "name": "python3",
      "display_name": "Python 3"
    },
    "language_info": {
      "name": "python"
    }
  },
  "cells": [
    {
      "cell_type": "markdown",
      "metadata": {
        "id": "view-in-github",
        "colab_type": "text"
      },
      "source": [
        "<a href=\"https://colab.research.google.com/github/Garvit1721/Text_Generation_using_LSTM/blob/main/text_generation.ipynb\" target=\"_parent\"><img src=\"https://colab.research.google.com/assets/colab-badge.svg\" alt=\"Open In Colab\"/></a>"
      ]
    },
    {
      "cell_type": "code",
      "execution_count": null,
      "metadata": {
        "colab": {
          "base_uri": "https://localhost:8080/"
        },
        "id": "UBzmAIQ2D4z4",
        "outputId": "e58aa5ed-36da-41b8-f261-8e0f9f3b1cd3"
      },
      "outputs": [
        {
          "output_type": "stream",
          "name": "stdout",
          "text": [
            "--2024-05-09 06:41:11--  https://www.gutenberg.org/files/1661/1661-0.txt\n",
            "Resolving www.gutenberg.org (www.gutenberg.org)... 152.19.134.47, 2610:28:3090:3000:0:bad:cafe:47\n",
            "Connecting to www.gutenberg.org (www.gutenberg.org)|152.19.134.47|:443... connected.\n",
            "HTTP request sent, awaiting response... 200 OK\n",
            "Length: 607504 (593K) [text/plain]\n",
            "Saving to: ‘book.txt’\n",
            "\n",
            "book.txt            100%[===================>] 593.27K  1.94MB/s    in 0.3s    \n",
            "\n",
            "2024-05-09 06:41:12 (1.94 MB/s) - ‘book.txt’ saved [607504/607504]\n",
            "\n"
          ]
        }
      ],
      "source": [
        "!wget https://www.gutenberg.org/files/1661/1661-0.txt -O book.txt"
      ]
    },
    {
      "cell_type": "code",
      "source": [
        "text = open('book.txt','r',encoding='utf-8').read()\n",
        "text = text.lower()"
      ],
      "metadata": {
        "id": "CBN8jGMhEm9O"
      },
      "execution_count": null,
      "outputs": []
    },
    {
      "cell_type": "code",
      "source": [
        "sentences = text.split('\\n')"
      ],
      "metadata": {
        "id": "gMcQiWDeFLAO"
      },
      "execution_count": null,
      "outputs": []
    },
    {
      "cell_type": "code",
      "source": [
        "import tensorflow as tf\n",
        "import keras\n",
        "from keras.preprocessing.text import Tokenizer\n",
        "from keras.preprocessing.sequence import pad_sequences\n"
      ],
      "metadata": {
        "id": "5ZFHQLrYFavC"
      },
      "execution_count": null,
      "outputs": []
    },
    {
      "cell_type": "code",
      "source": [
        "tokenizer = Tokenizer(oov_token='<UNK>')"
      ],
      "metadata": {
        "id": "kgKSBm8dFmqy"
      },
      "execution_count": null,
      "outputs": []
    },
    {
      "cell_type": "code",
      "source": [
        "tokenizer.fit_on_texts(sentences)"
      ],
      "metadata": {
        "id": "vDOlt8OFGIPa"
      },
      "execution_count": null,
      "outputs": []
    },
    {
      "cell_type": "code",
      "source": [
        "vocab_size = len(tokenizer.word_index)\n",
        "vocab_size"
      ],
      "metadata": {
        "colab": {
          "base_uri": "https://localhost:8080/"
        },
        "id": "UHN7t0sEGOxc",
        "outputId": "92cfd904-4ca1-4eb7-8d02-c7352b2a172f"
      },
      "execution_count": null,
      "outputs": [
        {
          "output_type": "execute_result",
          "data": {
            "text/plain": [
              "8922"
            ]
          },
          "metadata": {},
          "execution_count": 14
        }
      ]
    },
    {
      "cell_type": "code",
      "source": [
        "sequences = tokenizer.texts_to_sequences(sentences)"
      ],
      "metadata": {
        "id": "Z6sTuH3QGYa_"
      },
      "execution_count": null,
      "outputs": []
    },
    {
      "cell_type": "code",
      "source": [
        "input_sequences = []\n",
        "for sequence in sequences:\n",
        "  for i in range(1,len(sequence)):\n",
        "    n_gram_sequence = sequence[:i+1]\n",
        "    input_sequences.append(n_gram_sequence)"
      ],
      "metadata": {
        "id": "bsiF9Y5eGllj"
      },
      "execution_count": null,
      "outputs": []
    },
    {
      "cell_type": "code",
      "source": [
        "print(input_sequences[0],input_sequences[1])"
      ],
      "metadata": {
        "colab": {
          "base_uri": "https://localhost:8080/"
        },
        "id": "ododd4zTKeqm",
        "outputId": "cae25e97-0fe4-472e-f3a1-92eecd0392e6"
      },
      "execution_count": null,
      "outputs": [
        {
          "output_type": "stream",
          "name": "stdout",
          "text": [
            "[4776, 158] [4776, 158, 331]\n"
          ]
        }
      ]
    },
    {
      "cell_type": "code",
      "source": [
        "max_seq_len = max([len(seq) for seq in input_sequences])\n",
        "max_seq_len"
      ],
      "metadata": {
        "colab": {
          "base_uri": "https://localhost:8080/"
        },
        "id": "t6359D8TKi6g",
        "outputId": "8963fce1-d411-458c-c58e-6ce60e40b78b"
      },
      "execution_count": null,
      "outputs": [
        {
          "output_type": "execute_result",
          "data": {
            "text/plain": [
              "20"
            ]
          },
          "metadata": {},
          "execution_count": 20
        }
      ]
    },
    {
      "cell_type": "code",
      "source": [
        "padded_sequences = pad_sequences(sequences,maxlen = max_seq_len)"
      ],
      "metadata": {
        "id": "AUtTij0RKrzw"
      },
      "execution_count": null,
      "outputs": []
    },
    {
      "cell_type": "code",
      "source": [
        "print((padded_sequences[0]),(padded_sequences[1]))"
      ],
      "metadata": {
        "colab": {
          "base_uri": "https://localhost:8080/"
        },
        "id": "J2-uI5gWK1Od",
        "outputId": "2899cdf0-3214-42c8-a3f5-e47ee6bbe4c0"
      },
      "execution_count": null,
      "outputs": [
        {
          "output_type": "stream",
          "name": "stdout",
          "text": [
            "[   0    0    0    0    0    0    0    0    0    0 4776  158  331  886\n",
            "    5    2 1092    5  130   35] [   0    0    0    0    0    0    0    0    0    0    0    0    0    0\n",
            "    0    0   46  656 2664 2665]\n"
          ]
        }
      ]
    },
    {
      "cell_type": "code",
      "source": [
        "import numpy as np\n",
        "padded_sequences = np.array(padded_sequences)"
      ],
      "metadata": {
        "id": "92xAj5llK3yY"
      },
      "execution_count": null,
      "outputs": []
    },
    {
      "cell_type": "code",
      "source": [
        "x = padded_sequences[:,:-1]\n",
        "labels = padded_sequences[:,-1]"
      ],
      "metadata": {
        "id": "Eh2UdxJmMO4f"
      },
      "execution_count": null,
      "outputs": []
    },
    {
      "cell_type": "code",
      "source": [
        "y = tf.keras.utils.to_categorical(labels,num_classes=vocab_size)"
      ],
      "metadata": {
        "id": "nNuI-GD-MVhg"
      },
      "execution_count": null,
      "outputs": []
    },
    {
      "cell_type": "code",
      "source": [
        "y.shape"
      ],
      "metadata": {
        "colab": {
          "base_uri": "https://localhost:8080/"
        },
        "id": "Z_qyGWU6Mf9w",
        "outputId": "142d25e2-ff16-4f58-da32-bf722e847d33"
      },
      "execution_count": null,
      "outputs": [
        {
          "output_type": "execute_result",
          "data": {
            "text/plain": [
              "(12307, 8922)"
            ]
          },
          "metadata": {},
          "execution_count": 29
        }
      ]
    },
    {
      "cell_type": "code",
      "source": [
        "x.shape"
      ],
      "metadata": {
        "colab": {
          "base_uri": "https://localhost:8080/"
        },
        "id": "eAZubbSDMhc4",
        "outputId": "a1f3b76f-aa13-420d-aa6b-9bf2fc2bf238"
      },
      "execution_count": null,
      "outputs": [
        {
          "output_type": "execute_result",
          "data": {
            "text/plain": [
              "(12307, 19)"
            ]
          },
          "metadata": {},
          "execution_count": 30
        }
      ]
    },
    {
      "cell_type": "code",
      "source": [
        "x = x.reshape(x.shape[0],x.shape[1],1)"
      ],
      "metadata": {
        "id": "sJXBRiWHSiQG"
      },
      "execution_count": null,
      "outputs": []
    },
    {
      "cell_type": "code",
      "source": [
        "from keras.models import Sequential\n",
        "from keras.layers import Embedding,Bidirectional,LSTM,Dense\n",
        "from keras.optimizers import Adam"
      ],
      "metadata": {
        "id": "NlKcolQ1MieK"
      },
      "execution_count": null,
      "outputs": []
    },
    {
      "cell_type": "code",
      "source": [
        "num_classes = 8922\n",
        "\n",
        "model = Sequential([\n",
        "    Embedding(input_dim=12307, output_dim=256, input_length=19),\n",
        "    Bidirectional(LSTM(256)),\n",
        "    Dense(num_classes, activation='softmax')\n",
        "])\n",
        "\n",
        "optimizer = Adam(lr=0.001)\n",
        "model.compile(optimizer=optimizer, loss='categorical_crossentropy', metrics=['acc'])\n"
      ],
      "metadata": {
        "colab": {
          "base_uri": "https://localhost:8080/"
        },
        "id": "03piwxyCPO1P",
        "outputId": "2689ec7d-a096-442d-db11-c364cafd5380"
      },
      "execution_count": null,
      "outputs": [
        {
          "output_type": "stream",
          "name": "stderr",
          "text": [
            "WARNING:absl:`lr` is deprecated in Keras optimizer, please use `learning_rate` or use the legacy optimizer, e.g.,tf.keras.optimizers.legacy.Adam.\n"
          ]
        }
      ]
    },
    {
      "cell_type": "code",
      "source": [
        "model.fit(x,y,epochs=50,verbose=1,batch_size=512)"
      ],
      "metadata": {
        "colab": {
          "base_uri": "https://localhost:8080/"
        },
        "id": "3HAea2NVRcml",
        "outputId": "6610cee6-9584-472c-c9c6-02c075e0215a"
      },
      "execution_count": null,
      "outputs": [
        {
          "output_type": "stream",
          "name": "stdout",
          "text": [
            "Epoch 1/50\n",
            "25/25 [==============================] - 39s 2s/step - loss: 2.6777 - acc: 0.4796\n",
            "Epoch 2/50\n",
            "25/25 [==============================] - 38s 2s/step - loss: 2.6202 - acc: 0.4839\n",
            "Epoch 3/50\n",
            "25/25 [==============================] - 40s 2s/step - loss: 2.5501 - acc: 0.4929\n",
            "Epoch 4/50\n",
            "25/25 [==============================] - 39s 2s/step - loss: 2.5224 - acc: 0.4971\n",
            "Epoch 5/50\n",
            "25/25 [==============================] - 41s 2s/step - loss: 2.4624 - acc: 0.5036\n",
            "Epoch 6/50\n",
            "25/25 [==============================] - 39s 2s/step - loss: 2.3925 - acc: 0.5130\n",
            "Epoch 7/50\n",
            "25/25 [==============================] - 39s 2s/step - loss: 2.3337 - acc: 0.5202\n",
            "Epoch 8/50\n",
            "25/25 [==============================] - 38s 2s/step - loss: 2.2768 - acc: 0.5321\n",
            "Epoch 9/50\n",
            "25/25 [==============================] - 39s 2s/step - loss: 2.2357 - acc: 0.5346\n",
            "Epoch 10/50\n",
            "25/25 [==============================] - 39s 2s/step - loss: 2.1695 - acc: 0.5489\n",
            "Epoch 11/50\n",
            "25/25 [==============================] - 39s 2s/step - loss: 2.1004 - acc: 0.5592\n",
            "Epoch 12/50\n",
            "25/25 [==============================] - 41s 2s/step - loss: 2.0359 - acc: 0.5713\n",
            "Epoch 13/50\n",
            "25/25 [==============================] - 39s 2s/step - loss: 1.9865 - acc: 0.5814\n",
            "Epoch 14/50\n",
            "25/25 [==============================] - 39s 2s/step - loss: 1.9576 - acc: 0.5882\n",
            "Epoch 15/50\n",
            "25/25 [==============================] - 40s 2s/step - loss: 1.8897 - acc: 0.5980\n",
            "Epoch 16/50\n",
            "25/25 [==============================] - 42s 2s/step - loss: 1.8582 - acc: 0.6098\n",
            "Epoch 17/50\n",
            "25/25 [==============================] - 40s 2s/step - loss: 1.9440 - acc: 0.6008\n",
            "Epoch 18/50\n",
            "25/25 [==============================] - 42s 2s/step - loss: 1.9056 - acc: 0.6027\n",
            "Epoch 19/50\n",
            "25/25 [==============================] - 40s 2s/step - loss: 1.8076 - acc: 0.6239\n",
            "Epoch 20/50\n",
            "25/25 [==============================] - 40s 2s/step - loss: 1.6947 - acc: 0.6434\n",
            "Epoch 21/50\n",
            "25/25 [==============================] - 40s 2s/step - loss: 1.6228 - acc: 0.6573\n",
            "Epoch 22/50\n",
            "25/25 [==============================] - 39s 2s/step - loss: 1.5645 - acc: 0.6764\n",
            "Epoch 23/50\n",
            "25/25 [==============================] - 39s 2s/step - loss: 1.5096 - acc: 0.6857\n",
            "Epoch 24/50\n",
            "25/25 [==============================] - 40s 2s/step - loss: 1.4476 - acc: 0.7021\n",
            "Epoch 25/50\n",
            "25/25 [==============================] - 41s 2s/step - loss: 1.4025 - acc: 0.7124\n",
            "Epoch 26/50\n",
            "25/25 [==============================] - 40s 2s/step - loss: 1.3562 - acc: 0.7154\n",
            "Epoch 27/50\n",
            "25/25 [==============================] - 40s 2s/step - loss: 1.2977 - acc: 0.7368\n",
            "Epoch 28/50\n",
            "25/25 [==============================] - 41s 2s/step - loss: 1.2563 - acc: 0.7480\n",
            "Epoch 29/50\n",
            "25/25 [==============================] - 44s 2s/step - loss: 1.1908 - acc: 0.7631\n",
            "Epoch 30/50\n",
            "25/25 [==============================] - 40s 2s/step - loss: 1.1448 - acc: 0.7699\n",
            "Epoch 31/50\n",
            "25/25 [==============================] - 43s 2s/step - loss: 1.1092 - acc: 0.7798\n",
            "Epoch 32/50\n",
            "25/25 [==============================] - 41s 2s/step - loss: 1.1201 - acc: 0.7761\n",
            "Epoch 33/50\n",
            "25/25 [==============================] - 42s 2s/step - loss: 1.1018 - acc: 0.7774\n",
            "Epoch 34/50\n",
            "25/25 [==============================] - 42s 2s/step - loss: 1.0345 - acc: 0.7918\n",
            "Epoch 35/50\n",
            "25/25 [==============================] - 41s 2s/step - loss: 0.9754 - acc: 0.8081\n",
            "Epoch 36/50\n",
            "25/25 [==============================] - 43s 2s/step - loss: 0.9483 - acc: 0.8153\n",
            "Epoch 37/50\n",
            "25/25 [==============================] - 45s 2s/step - loss: 0.9110 - acc: 0.8229\n",
            "Epoch 38/50\n",
            "25/25 [==============================] - 42s 2s/step - loss: 0.8816 - acc: 0.8263\n",
            "Epoch 39/50\n",
            "25/25 [==============================] - 40s 2s/step - loss: 0.8390 - acc: 0.8419\n",
            "Epoch 40/50\n",
            "25/25 [==============================] - 39s 2s/step - loss: 0.8181 - acc: 0.8416\n",
            "Epoch 41/50\n",
            "25/25 [==============================] - 38s 2s/step - loss: 0.7794 - acc: 0.8554\n",
            "Epoch 42/50\n",
            "25/25 [==============================] - 39s 2s/step - loss: 0.7491 - acc: 0.8601\n",
            "Epoch 43/50\n",
            "25/25 [==============================] - 39s 2s/step - loss: 0.7168 - acc: 0.8672\n",
            "Epoch 44/50\n",
            "25/25 [==============================] - 41s 2s/step - loss: 0.6878 - acc: 0.8757\n",
            "Epoch 45/50\n",
            "25/25 [==============================] - 39s 2s/step - loss: 0.6645 - acc: 0.8789\n",
            "Epoch 46/50\n",
            "25/25 [==============================] - 40s 2s/step - loss: 0.6420 - acc: 0.8814\n",
            "Epoch 47/50\n",
            "25/25 [==============================] - 39s 2s/step - loss: 0.6151 - acc: 0.8893\n",
            "Epoch 48/50\n",
            "25/25 [==============================] - 39s 2s/step - loss: 0.6016 - acc: 0.8923\n",
            "Epoch 49/50\n",
            "25/25 [==============================] - 40s 2s/step - loss: 0.6604 - acc: 0.8774\n",
            "Epoch 50/50\n",
            "25/25 [==============================] - 40s 2s/step - loss: 0.6375 - acc: 0.8820\n"
          ]
        },
        {
          "output_type": "execute_result",
          "data": {
            "text/plain": [
              "<keras.src.callbacks.History at 0x7d5324f706d0>"
            ]
          },
          "metadata": {},
          "execution_count": 68
        }
      ]
    },
    {
      "cell_type": "code",
      "source": [
        "import numpy as np\n",
        "\n",
        "seed_text = \"I could not help laughing at the ease with which he explained his process of deduction\"\n",
        "next_words = 100\n",
        "\n",
        "for _ in range(next_words):\n",
        "    sequence = tokenizer.texts_to_sequences([seed_text])\n",
        "    padded = pad_sequences(sequence, maxlen=max_seq_len-1)\n",
        "    predicted = model.predict(padded, verbose=0)\n",
        "    predicted_index = np.argmax(predicted, axis=-1)\n",
        "    output_word = ''\n",
        "    for word, index in tokenizer.word_index.items():\n",
        "        if index == predicted_index:\n",
        "            output_word = word\n",
        "            break\n",
        "    seed_text += ' ' + output_word\n",
        "print(seed_text)\n"
      ],
      "metadata": {
        "colab": {
          "base_uri": "https://localhost:8080/"
        },
        "id": "gDeyqj4HRnIP",
        "outputId": "bc925313-af6f-4c6e-eb58-8eba25569858"
      },
      "execution_count": null,
      "outputs": [
        {
          "output_type": "stream",
          "name": "stdout",
          "text": [
            "I could not help laughing at the ease with which he explained his process of deduction at a smile “g” “g” at the smile “g” “g” known “g” assistance assistance assistance assistance assistance assistance that assistance assistance assistance assistance assistance assistance assistance assistance that the play you you you you you not go to my john so so so so known by “g” “g” known i known i known in him as assistance assistance assistance assistance assistance assistance assistance assistance assistance assistance assistance assistance assistance assistance assistance that the play you you you you you you go to my john so so so so known by “g” “g” known i lent another known known i known\n"
          ]
        }
      ]
    },
    {
      "cell_type": "code",
      "source": [
        "x"
      ],
      "metadata": {
        "id": "7zqFA84nrKXi"
      },
      "execution_count": null,
      "outputs": []
    }
  ]
}